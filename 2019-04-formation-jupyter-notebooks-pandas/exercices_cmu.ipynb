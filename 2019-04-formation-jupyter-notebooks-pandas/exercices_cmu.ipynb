{
 "cells": [
  {
   "cell_type": "markdown",
   "metadata": {},
   "source": [
    "# Introduction à Pandas : exercices\n",
    "\n",
    "\n",
    "## Données d'exemple : Clinical trials\n",
    "\n",
    "source: https://clinicaltrials.gov/ct2/resources/download\n",
    "\n",
    "31 Fichiers de 10'000 lignes téléchargés avec curl :\n",
    "\n",
    "``` bash\n",
    "curl https://clinicaltrials.gov/ct2/results/download_fields\\?down_count=10000\\&down_fmt=tsv\\&down_chunk=[1-31] -m 300 -o \"clinical_trials_#1.tsv\"\n",
    "```"
   ]
  },
  {
   "cell_type": "code",
   "execution_count": null,
   "metadata": {
    "nbgrader": {
     "grade": false,
     "grade_id": "1",
     "locked": false,
     "solution": false
    },
    "scrolled": true
   },
   "outputs": [],
   "source": [
    "import os\n",
    "import pandas as pd\n",
    "my_total = 0\n",
    "df = pd.DataFrame()\n",
    "for file in os.listdir('shared_data/clinical_trials'):\n",
    "    print (file)\n",
    "    myfile = 'shared_data/clinical_trials/' + file\n",
    "    df_temp = pd.read_csv(myfile, sep='\\t')\n",
    "    df = df.append(df_temp)\n",
    "df.sample(100)"
   ]
  },
  {
   "cell_type": "code",
   "execution_count": null,
   "metadata": {},
   "outputs": [],
   "source": [
    "df"
   ]
  },
  {
   "cell_type": "markdown",
   "metadata": {},
   "source": [
    "### Question 1\n",
    "\n",
    "Quel est la taille du DataFrame?\n"
   ]
  },
  {
   "cell_type": "code",
   "execution_count": null,
   "metadata": {},
   "outputs": [],
   "source": [
    "df.shape"
   ]
  },
  {
   "cell_type": "markdown",
   "metadata": {},
   "source": [
    "### Question 2\n",
    "\n",
    "Afficher le résumé des veleurs numériques du DataFrame\n"
   ]
  },
  {
   "cell_type": "code",
   "execution_count": null,
   "metadata": {},
   "outputs": [],
   "source": [
    "df.describe()"
   ]
  },
  {
   "cell_type": "markdown",
   "metadata": {},
   "source": [
    "### Question 3\n",
    "\n",
    "Combien d'essais cliniques il y a par type de maladie ?\n",
    "*aide : champ \"Conditions\"\n"
   ]
  },
  {
   "cell_type": "code",
   "execution_count": null,
   "metadata": {
    "scrolled": true
   },
   "outputs": [],
   "source": [
    "df['Conditions'].value_counts()"
   ]
  },
  {
   "cell_type": "markdown",
   "metadata": {},
   "source": [
    "### Question 4\n",
    "\n",
    "Afficher le nombre d'essais cliniques faits en Suisse  \n",
    "*aide : utiliser les variantes en anglais ou français*"
   ]
  },
  {
   "cell_type": "code",
   "execution_count": null,
   "metadata": {
    "scrolled": true
   },
   "outputs": [],
   "source": [
    "df_ch = df.loc[(df['Locations'].str.contains('suisse', regex=False, case=False, na=False)) |\n",
    "                   (df['Locations'].str.contains('switzerland', regex=False, case=False, na=False)) |\n",
    "                   (df['Locations'].str.contains('schweiz', regex=False, case=False, na=False)) | \n",
    "                   (df['Locations'].str.contains('svizzera', regex=False, case=False, na=False))]"
   ]
  },
  {
   "cell_type": "code",
   "execution_count": null,
   "metadata": {},
   "outputs": [],
   "source": [
    "df_ch.shape"
   ]
  },
  {
   "cell_type": "markdown",
   "metadata": {},
   "source": [
    "### Question 5\n",
    "\n",
    "Afficher le nombre d'essais cliniques faits à Genève  \n",
    "*aide : utiliser les variantes en anglais ou frnaçais*"
   ]
  },
  {
   "cell_type": "code",
   "execution_count": null,
   "metadata": {
    "scrolled": true
   },
   "outputs": [],
   "source": [
    "df_ge = df.loc[(df['Locations'].str.contains('geneva', regex=False, case=False, na=False)) |\n",
    "       (df['Locations'].str.contains('geneve', regex=False, case=False, na=False)) |\n",
    "       (df['Locations'].str.contains('genève', regex=False, case=False, na=False))]"
   ]
  },
  {
   "cell_type": "code",
   "execution_count": null,
   "metadata": {},
   "outputs": [],
   "source": [
    "df_ge.shape"
   ]
  },
  {
   "cell_type": "code",
   "execution_count": null,
   "metadata": {},
   "outputs": [],
   "source": [
    "df_ge"
   ]
  },
  {
   "cell_type": "markdown",
   "metadata": {},
   "source": [
    "### Question 6\n",
    "\n",
    "Afficher la repartition d'essais cliniques faits à Genève par statut\n",
    "*aide : utiliser les variantes en anglais ou frnaçais*"
   ]
  },
  {
   "cell_type": "code",
   "execution_count": null,
   "metadata": {},
   "outputs": [],
   "source": [
    "df_ge['Status'].value_counts()"
   ]
  },
  {
   "cell_type": "code",
   "execution_count": null,
   "metadata": {},
   "outputs": [],
   "source": [
    "# afficher en forme de graphique de barres\n",
    "import matplotlib.pyplot as plt\n",
    "%matplotlib inline\n",
    "df_ge['Status'].value_counts().plot.bar()"
   ]
  }
 ],
 "metadata": {
  "anaconda-cloud": {},
  "coursera": {
   "course_slug": "python-data-analysis",
   "graded_item_id": "tHmgx",
   "launcher_item_id": "Um6Bz",
   "part_id": "OQsnr"
  },
  "kernelspec": {
   "display_name": "Python 3",
   "language": "python",
   "name": "python3"
  },
  "language_info": {
   "codemirror_mode": {
    "name": "ipython",
    "version": 3
   },
   "file_extension": ".py",
   "mimetype": "text/x-python",
   "name": "python",
   "nbconvert_exporter": "python",
   "pygments_lexer": "ipython3",
   "version": "3.7.0"
  }
 },
 "nbformat": 4,
 "nbformat_minor": 1
}
