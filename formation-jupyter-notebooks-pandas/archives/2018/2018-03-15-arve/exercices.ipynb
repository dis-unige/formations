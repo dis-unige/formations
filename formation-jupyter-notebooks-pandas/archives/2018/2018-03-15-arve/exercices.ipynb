{
 "cells": [
  {
   "cell_type": "markdown",
   "metadata": {
    "deletable": true,
    "editable": true
   },
   "source": [
    "# Introduction à Pandas : exercices\n",
    "\n",
    "\n",
    "## Données d'exemple : Geonames\n",
    "\n",
    "file: http://download.geonames.org/export/dump/allCountries.zip\n",
    "\n",
    "### Documentation\n",
    "\n",
    "The main 'geoname' table has the following fields :\n",
    "\n",
    "* geonameid : integer id of record in geonames database\n",
    "* name : name of geographical point (utf8) varchar(200)\n",
    "* asciiname : name of geographical point in plain ascii characters, varchar(200)\n",
    "* alternatenames : alternatenames, comma separated, ascii names automatically transliterated, convenience attribute from alternatename table, varchar(10000)\n",
    "* latitude : latitude in decimal degrees (wgs84)\n",
    "* longitude : longitude in decimal degrees (wgs84)\n",
    "* feature class : see http://www.geonames.org/export/codes.html, char(1)\n",
    "* feature code : see http://www.geonames.org/export/codes.html, varchar(10)\n",
    "* country code : ISO-3166 2-letter country code, 2 characters\n",
    "* cc2 : alternate country codes, comma separated, ISO-3166 2-letter country code, 200 characters\n",
    "* admin1 code : fipscode (subject to change to iso code), see exceptions below, see file admin1Codes.txt for display names of this code; varchar(20)\n",
    "* admin2 code : code for the second administrative division, a county in the US, see file admin2Codes.txt; varchar(80)\n",
    "* admin3 code : code for third level administrative division, varchar(20)\n",
    "* admin4 code : code for fourth level administrative division, varchar(20)\n",
    "* population : bigint (8 byte int)\n",
    "* elevation : in meters, integer\n",
    "* dem : digital elevation model, srtm3 or gtopo30, average elevation of 3''x3'' (ca 90mx90m) or 30''x30'' (ca 900mx900m) area in meters, integer. srtm processed by cgiar/ciat.\n",
    "* timezone : the iana timezone id (see file timeZone.txt) varchar(40)\n",
    "* modification date : date of last modification in yyyy-MM-dd format\n",
    "\n",
    "AdminCodes: Most adm1 are FIPS codes. ISO codes are used for US, CH, BE and ME. UK and Greece are using an additional level between country and fips code. The code '00' stands for general features where no specific adm1 code is defined. The corresponding admin feature is found with the same countrycode and adminX codes and the respective feature code ADMx."
   ]
  },
  {
   "cell_type": "code",
   "execution_count": null,
   "metadata": {
    "collapsed": false,
    "deletable": true,
    "editable": true,
    "nbgrader": {
     "grade": false,
     "grade_id": "1",
     "locked": false,
     "solution": false
    },
    "scrolled": true
   },
   "outputs": [],
   "source": [
    "import pandas as pd\n",
    "\n",
    "df = pd.read_csv('data/allCountries.zip', header=None, delimiter='\\t', compression='zip', \n",
    "                 names=('geonameid', 'name', 'asciiname', 'alternatenames', 'latitude',\n",
    "                        'longitude', 'feature class', 'feature code', 'country code', 'cc2',\n",
    "                        'admin1_code', 'admin2_code', 'admin3_code', 'admin4_code', 'population',\n",
    "                        'elevation', 'dem', 'timezone', 'modification_date'),\n",
    "                 usecols=('geonameid', 'name', 'latitude', 'longitude', 'feature class',\n",
    "                          'feature code', 'country code', 'admin1_code', 'admin2_code', 'admin3_code',\n",
    "                          'admin4_code', 'population', 'elevation', 'modification_date'))\n",
    "df.sample(100)"
   ]
  },
  {
   "cell_type": "markdown",
   "metadata": {
    "deletable": true,
    "editable": true
   },
   "source": [
    "### Question 1\n",
    "\n",
    "Quel est la taille du DataFrame?\n"
   ]
  },
  {
   "cell_type": "markdown",
   "metadata": {
    "deletable": true,
    "editable": true
   },
   "source": [
    "### Question 2\n",
    "\n",
    "Afficher le résumé des veleurs du DataFrame\n"
   ]
  },
  {
   "cell_type": "markdown",
   "metadata": {
    "deletable": true,
    "editable": true
   },
   "source": [
    "### Question 3\n",
    "\n",
    "Quels sont les lacs qui figurent dans les données? (*aide : code \"LK\"*)\n",
    "\n",
    "*Bonus : Y a-t-il des doublons ? *"
   ]
  },
  {
   "cell_type": "markdown",
   "metadata": {
    "deletable": true,
    "editable": true
   },
   "source": [
    "### Question 4\n",
    "\n",
    "Afficher le nombre de lacs par pays"
   ]
  },
  {
   "cell_type": "markdown",
   "metadata": {
    "deletable": true,
    "editable": true
   },
   "source": [
    "### Question 5\n",
    "\n",
    "Quels sont les lacs repertoriés pour la Suisse et quel est son altitude moyenne ?\n",
    "\n",
    "*Bonus : Et pour le Canton de Genève ?*"
   ]
  },
  {
   "cell_type": "markdown",
   "metadata": {
    "deletable": true,
    "editable": true
   },
   "source": [
    "### Question 6\n",
    "\n",
    "Identifier le lac Léman"
   ]
  },
  {
   "cell_type": "markdown",
   "metadata": {
    "deletable": true,
    "editable": true
   },
   "source": [
    "### Question 7\n",
    "\n",
    "Exporter la table des lacs dans un fichier CSV"
   ]
  },
  {
   "cell_type": "markdown",
   "metadata": {
    "deletable": true,
    "editable": true
   },
   "source": [
    "### Question 8\n",
    "\n",
    "Afficher un graphique des barres avec le nombre de lacs par pays pour les premiers 30 pays\n",
    "\n",
    "*Bonus : Afficher un histogramme avec l'altitude des lacs*"
   ]
  }
 ],
 "metadata": {
  "anaconda-cloud": {},
  "coursera": {
   "course_slug": "python-data-analysis",
   "graded_item_id": "tHmgx",
   "launcher_item_id": "Um6Bz",
   "part_id": "OQsnr"
  },
  "kernelspec": {
   "display_name": "Python 3",
   "language": "python",
   "name": "python3"
  },
  "language_info": {
   "codemirror_mode": {
    "name": "ipython",
    "version": 3
   },
   "file_extension": ".py",
   "mimetype": "text/x-python",
   "name": "python",
   "nbconvert_exporter": "python",
   "pygments_lexer": "ipython3",
   "version": "3.6.1"
  }
 },
 "nbformat": 4,
 "nbformat_minor": 0
}
