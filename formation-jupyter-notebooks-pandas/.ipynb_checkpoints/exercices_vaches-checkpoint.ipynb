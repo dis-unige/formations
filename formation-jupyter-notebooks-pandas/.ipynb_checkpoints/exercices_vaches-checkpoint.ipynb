{
 "cells": [
  {
   "cell_type": "markdown",
   "metadata": {},
   "source": [
    "# Exemples avec Jupyter Notebook et Pandas\n",
    "\n",
    "\n",
    "\n",
    "## Exercice sur les statistiques de l'élevage bovin en Suisse et son évoluton historique\n",
    "\n",
    "Auteur : **Pablo Iriarte, UNIGE - pablo.iriarte@unige.ch**  \n",
    "Date : 10.03.2020\n",
    "\n",
    "Ce notebook est aussi une vérification des statistiques publiées dans le livre \"Bewes, Diccon. Swisscellany Facts & Figures About Switzerland. Basel: Bergli, 2012\" et cité dans le blog : https://www.newlyswissed.com/counting-the-cows-of-switzerland/\n",
    "\n",
    "Sources des données sur l'élevage en Suisse de bovins par canton :\n",
    "* OFS (1985-2018) chiffres totales pour la Suisse : https://www.bfs.admin.ch/bfs/fr/home/statistiques/catalogues-banques-donnees/cartes.assetdetail.8346706.html\n",
    "* OFS (2000-2018) chiffres par canton avec détail sur les vaches un onglet par année : https://www.bfs.admin.ch/bfs/fr/home/statistiques/agriculture-sylviculture/agriculture/structures.assetdetail.8346720.html\n",
    "* OFS (1975-2018 pour le total de bovins) : https://www.bfs.admin.ch/bfs/fr/home/statistiques/agriculture-sylviculture/agriculture/structures.assetdetail.8346720.html\n",
    "* HSSO (1866-1993) bovins et détails sur les vaches : https://hsso.ch/fr/2012/i/9\n",
    "* DHS : https://hls-dhs-dss.ch/fr/articles/013944/2007-11-29/\n",
    "\n",
    "\n",
    "Données OFS exportés à partir de la page https://www.pxweb.bfs.admin.ch/pxweb/fr/px-x-0702000000_101/px-x-0702000000_101/px-x-0702000000_101.px\n",
    "* Statistique \"Emplois, exploitations agricoles, surface agricole utile (SAU) et animaux de rente selon le niveau de classification 1 par canton\" Information\n",
    "* Unité : Exploitation, emploi, ha, animal \n",
    "* Contact : Section Structure et analyses économiques, 058 463 62 66, e-mail: agrar@bfs.admin.ch \n",
    "* Dernière mise à jour : 28.05.2019 \n",
    "* Enquête : Relevé des structures agricoles (STRU) \n",
    "* Matrice : px-x-0702000000_101 \n",
    "* Base de données : OFS - STAT-TAB / Office fédéral de la statistique, 2010 Neuchâtel / Suisse / © Office fédéral de la * statistique \n",
    "\n",
    "\n",
    "url_elevage_ofs_ch = ('https://www.bfs.admin.ch/bfsstatic/dam/assets/8346706/master')\n",
    "url_elevage_ofs = ('https://www.bfs.admin.ch/bfsstatic/dam/assets/8346717/master')\n",
    "fichier_elevage_ofs_bovins = ('px-x-0702000000_101.csv')\n",
    "\n",
    "Sources des données sur la population CH :\n",
    "* OFS (1991-2018) : https://www.bfs.admin.ch/bfs/fr/home/statistiques/population/effectif-evolution/repartition-territoriale.assetdetail.9486040.html\n",
    "* HSSO (1671-1990) : https://hsso.ch/fr/2012/b/1a\n",
    "\n",
    "Sources des données sur la surface des cantons :\n",
    "* OFS (2019) : https://www.bfs.admin.ch/bfs/fr/home/statistiques/statistique-regions/portraits-regionaux-chiffres-cles/cantons.assetdetail.7786545.html"
   ]
  },
  {
   "cell_type": "markdown",
   "metadata": {},
   "source": [
    "## Exercices\n",
    "\n",
    "### 1. Importer les données de l'OFS exportés en csv  \n",
    "  (fichier px-x-0702000000_101.csv disponible sur le dossier data_shared)"
   ]
  },
  {
   "cell_type": "markdown",
   "metadata": {
    "scrolled": true
   },
   "source": [
    "### 2. Renommer les cantons  \n",
    "Aide :  \n",
    "    'Suisse' : 'CH', 'Zürich' : 'ZH', 'Bern / Berne' : 'BE',\n",
    "    'Luzern' : 'LU', 'Uri' : 'UR', 'Schwyz' : 'SZ',\n",
    "    'Obwalden' : 'OW', 'Nidwalden' : 'NW', 'Glarus' : 'GL',\n",
    "    'Zug' : 'ZG', 'Fribourg / Freiburg' : 'FR', 'Solothurn' : 'SO',\n",
    "    'Basel-Stadt' : 'BS', 'Basel-Landschaft' : 'BL',\n",
    "    'Schaffhausen' : 'SH', 'Appenzell Ausserrhoden' : 'AR',\n",
    "    'Appenzell Innerrhoden' : 'AI', 'St. Gallen' : 'SG',\n",
    "    'Graubünden / Grigioni / Grischun' : 'GR',\n",
    "    'Aargau' : 'AG', 'Thurgau' : 'TG',\n",
    "    'Ticino' : 'TI', 'Vaud' : 'VD', 'Valais / Wallis' : 'VS',\n",
    "    'Neuchâtel' : 'NE', 'Genève' : 'GE', 'Jura' : 'JU'\n"
   ]
  },
  {
   "cell_type": "markdown",
   "metadata": {
    "scrolled": true
   },
   "source": [
    "### 3. Importer les données historiques HSSO"
   ]
  },
  {
   "cell_type": "markdown",
   "metadata": {
    "scrolled": true
   },
   "source": [
    "### 4. Fusionner de deux fichiers OFS et HSSO"
   ]
  },
  {
   "cell_type": "markdown",
   "metadata": {
    "scrolled": true
   },
   "source": [
    "### 5. Ajouter les années manquantes"
   ]
  },
  {
   "cell_type": "markdown",
   "metadata": {
    "scrolled": true
   },
   "source": [
    "### 6. Ajouter une interpolation linaire pour remplir les années vides"
   ]
  },
  {
   "cell_type": "markdown",
   "metadata": {},
   "source": [
    "### 7. Exporter en CSV et Excel la table fusionnée"
   ]
  },
  {
   "cell_type": "markdown",
   "metadata": {
    "podoc": {
     "output_text": "<matplotlib.figure.Figure at 0x7fe6b43abc18>"
    }
   },
   "source": [
    "### 8. Créer un graphique su nombre de bovins pour toute la suisse et pour certains cantons"
   ]
  },
  {
   "cell_type": "markdown",
   "metadata": {},
   "source": [
    "### 9. Importer les données de population de l'OFS et HSSO"
   ]
  },
  {
   "cell_type": "markdown",
   "metadata": {},
   "source": [
    "### 10. Calculer le ratio du nombre de bovins par habitant"
   ]
  }
 ],
 "metadata": {
  "kernelspec": {
   "display_name": "Python 3 (ipykernel)",
   "language": "python",
   "name": "python3"
  },
  "language_info": {
   "codemirror_mode": {
    "name": "ipython",
    "version": 3
   },
   "file_extension": ".py",
   "mimetype": "text/x-python",
   "name": "python",
   "nbconvert_exporter": "python",
   "pygments_lexer": "ipython3",
   "version": "3.12.3"
  }
 },
 "nbformat": 4,
 "nbformat_minor": 4
}
